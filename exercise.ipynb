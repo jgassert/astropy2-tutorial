{
 "cells": [
  {
   "cell_type": "markdown",
   "metadata": {},
   "source": [
    "# Supernovae measurements to constrain cosmological parameters\n",
    "\n",
    "In this exercise you will follow some steps of the paper written by Riess et al. about the measurements of Supernovae and their corresponding distance (modulus), which they used to infer cosmological parameters. You will read in the data from two .csv files, have a look at them and then quickly go about fitting different models to the observed data to infer e.g. the dark energy component of the universe. Riess was awarded a shared nobel prize for these findings, since this was the first hard proof of a significant dark energy density.\n",
    "\n",
    "You can read the abstract below or have a look at the full paper here: https://iopscience.iop.org/article/10.1086/300499/pdf\n",
    "\n",
    "![Abstract of the paper \"OBSERVATIONAL EVIDENCE FROM SUPERNOVAE FOR AN ACCELERATING UNIVERSE AND A COSMOLOGICAL CONSTANT\" by Riess et al.](Riess-abstract-full.png \"Riess et al. Abstract\")"
   ]
  },
  {
   "cell_type": "code",
   "execution_count": 1,
   "metadata": {},
   "outputs": [],
   "source": [
    "# start by importing the relevant libraries\n",
    "\n",
    "from astropy.cosmology import Planck18 as planck\n",
    "from astropy.cosmology import WMAP5 as wmap\n",
    "\n",
    "from astropy.cosmology import FlatLambdaCDM\n",
    "from astropy.cosmology import FlatwCDM\n",
    "from astropy.cosmology import LambdaCDM\n",
    "import numpy as np\n",
    "from astropy.table import Table, vstack\n",
    "import matplotlib.pyplot as plt \n",
    "\n",
    "from iminuit import Minuit\n",
    "from iminuit.cost import LeastSquares"
   ]
  },
  {
   "cell_type": "code",
   "execution_count": null,
   "metadata": {},
   "outputs": [],
   "source": [
    "# You can quickly check the cosmological parameters of the imported packages by simply printing the 'cosmology'\n",
    "...\n",
    "...\n",
    "# one drawback: no errors are built-in"
   ]
  },
  {
   "cell_type": "markdown",
   "metadata": {},
   "source": [
    "### Task 0.0: Read the data\n",
    "\n",
    "First, read in the data from the SN_data.csv and Snapshot.csv file. Many libraries can do this, astropy is one of them. When using your favorite IDE you can see two neat functions when simply typing the table name followed by ``.show`` in a code cell. Printing a table is possible as well, in a notebook you can also just show add write the name at the end of the code cell, which will be formatted differently than printing."
   ]
  },
  {
   "cell_type": "code",
   "execution_count": 3,
   "metadata": {},
   "outputs": [],
   "source": [
    "# One of the easiest ways to read in the files is to simply call Table.read(\"filename\")\n",
    "\n",
    "mlcs = ...\n",
    "snapshot = ..."
   ]
  },
  {
   "cell_type": "code",
   "execution_count": null,
   "metadata": {},
   "outputs": [],
   "source": [
    "# try to display the notebook as mentioned in the task question\n",
    "snapshot.show..."
   ]
  },
  {
   "cell_type": "code",
   "execution_count": null,
   "metadata": {},
   "outputs": [],
   "source": [
    "# printing a tbale is possible as well, but the formatting is less helfpul, will quickly omit columns/rows and not show var-types\n",
    "print(mlcs)"
   ]
  },
  {
   "cell_type": "code",
   "execution_count": null,
   "metadata": {},
   "outputs": [],
   "source": [
    "# simply outputting in a notebook cell will format it more like a table, but not have the functionality of ``.show_in_notebook()``\n",
    "mlcs"
   ]
  },
  {
   "cell_type": "code",
   "execution_count": null,
   "metadata": {},
   "outputs": [],
   "source": [
    "# it is possible to show certain rows only as well\n",
    "mlcs[3:5]"
   ]
  },
  {
   "cell_type": "markdown",
   "metadata": {},
   "source": [
    "### Task 0.1: Merge the two tables\n",
    "Merge the two tables (``mlcs`` and ``snapshot``) into one big ``SN_data`` table.\n",
    "\n",
    "*Hint:* look at the import section at the top to find a neat function to do this. Of course, there are multiple ways of doing this, also without astropy even (e.g. numpy), so feel free to play around."
   ]
  },
  {
   "cell_type": "code",
   "execution_count": 9,
   "metadata": {},
   "outputs": [],
   "source": [
    "# merge the mlcs and snapshot tables\n",
    "SN_data = ... # need to pass an array/list into the vstack command"
   ]
  },
  {
   "cell_type": "markdown",
   "metadata": {},
   "source": [
    "### Task 1: Plot the maximum magnitude against redshift, including the errors in magnitude\n",
    "\n",
    "It's always good to get a feeling for the data you're working with and a plot helps to visualize the data. Put the redshifts on the x-axis and the distance modulus on the y-axis."
   ]
  },
  {
   "cell_type": "code",
   "execution_count": null,
   "metadata": {},
   "outputs": [],
   "source": [
    "plt.errorbar(x = ..., y = ..., yerr= ..., fmt = \"o\")\n",
    "plt.title(r\"Observed $\\mu_0$ vs. z\")\n",
    "plt.xlabel(\"Redshift z\")\n",
    "plt.ylabel(r\"Distance Modulus $\\mu_0$\")\n",
    "plt.xscale(\"log\")\n",
    "plt.yscale(\"log\")\n",
    "plt.tight_layout()\n",
    "plt.show()"
   ]
  },
  {
   "cell_type": "markdown",
   "metadata": {},
   "source": [
    "### Task 2: Add the Planck18 & WMAP5 cosmological relation of $\\mu_0$ vs. z to the plot\n",
    "\n",
    "Plot the distance modulus $\\mu_0$ vs. z over a redshift range of 0 to 1, including the calculated values from the cosmological parameters given by Planck18 and WMAP5, as well as the SN data."
   ]
  },
  {
   "cell_type": "code",
   "execution_count": 11,
   "metadata": {},
   "outputs": [],
   "source": [
    "# Calculate the luminosity distance using Planck18 cosmology\n",
    "zs = ...\n",
    "planck_distance_modulus = planck.distmod(...)\n",
    "wmap_distance_modulus = ..."
   ]
  },
  {
   "cell_type": "code",
   "execution_count": null,
   "metadata": {},
   "outputs": [],
   "source": [
    "# Plot the luminosity distance vs redshift\n",
    "plt.figure(figsize=(10, 6))\n",
    "plt.plot(..., ..., 'r-', label='Planck18 Cosmology')\n",
    "plt.plot(..., ..., label='WMAP5 Cosmology')\n",
    "plt.errorbar(x = ..., y = ..., yerr = ..., fmt = \"o\", label = \"SN data\")\n",
    "plt.xlabel('Redshift z')\n",
    "plt.ylabel('Distance Modulus')\n",
    "plt.title('Distance Modulus vs Redshift')\n",
    "plt.legend()\n",
    "plt.xscale(\"log\")\n",
    "plt.yscale(\"log\")\n",
    "plt.tight_layout()\n",
    "plt.show()"
   ]
  },
  {
   "cell_type": "markdown",
   "metadata": {},
   "source": [
    "You may have realized that both models seem like an ok fit to the data, so you can't (at least by eye) distinguish which could be more correct. This wasn't the purpose or big claim from the Riess et. al paper, instead they were able to show, that some kind of dark energy (\"the lambda\") is required to explain the observed SN data.\n",
    "\n",
    "Today, 25 years later, we are in the \"era of precision cosmology\", where it *is possible* to distinguish between the two models above. Measurements from the CMB (Cosmic Microwave Background) disagree however now to significant levels with Supernovae measurements. This is what is known as **Hubble tension**, since it is unclear, why the deviation arises and how to resolve it. The current CMB (often dubbed Planck, since this was the instrument's name) & SN (e.g. Sh0es) measurements are:\n",
    "- Planck: $H_0 = 67.4\\pm0.5$ km/s/Mpc, $\\Omega_m = 0.315\\pm0.007$, $\\Omega_k = 0.001\\pm0.002$, $\\omega_0 = -1.03\\pm0.03$ (Planck18)\n",
    "- SH0ES: $H_0 = 73.2\\pm1.3$ km/s/Mpc\n",
    "\n",
    "There are many other (types of) measurements of $H_0$ (and the other parameters, too, of course), with a general tendency to be closer to the Planck/CMB value, but no conclusive explanation has been found for why the Supernovae result should differ."
   ]
  },
  {
   "cell_type": "markdown",
   "metadata": {},
   "source": [
    "### Task 3: Try multiple different combinations of cosmological parameters & compare\n",
    "\n",
    "This task is to get a feeling, which of the cosmological parameters are related and how they change depending on each other. Start by assuming a FlatLambdaCDM model and simply try out yourself. Ask yourself, what values of ``\\Omega_0`` and ``H_0`` do not make any sense at all and see what happens."
   ]
  },
  {
   "cell_type": "code",
   "execution_count": null,
   "metadata": {},
   "outputs": [],
   "source": [
    "# Define different cosmologies\n",
    "cosmologies = {\n",
    "    'Planck18': planck, # not plotting WMAP here because quite similar to planck\n",
    "    \n",
    "}\n",
    "\n",
    "# Calculate luminosity distances for each cosmology\n",
    "distmods_cosmologies = {}\n",
    "for name, cos in cosmologies.items():\n",
    "    distmods_cosmologies[name] = cos.distmod(zs)\n",
    "\n",
    "# Plot the luminosity distance vs redshift for each cosmology\n",
    "plt.figure(figsize=(10, 6))\n",
    "for name, mu in distmods_cosmologies.items():\n",
    "    plt.plot(zs, mu, label=name)\n",
    "plt.errorbar(SN_data['Z'], SN_data['mu_0'], yerr = SN_data['mu_0_err'], fmt = 'o', label='SN Data')\n",
    "plt.xlabel('Redshift z')\n",
    "plt.ylabel(r'Distance Modulus $\\mu_0$')\n",
    "plt.title('Distance Modulus vs Redshift for Different Cosmologies or Cosmological Parameters')\n",
    "plt.legend()\n",
    "plt.xscale(\"log\")\n",
    "plt.yscale(\"log\")\n",
    "plt.tight_layout()\n",
    "plt.show()"
   ]
  },
  {
   "cell_type": "markdown",
   "metadata": {},
   "source": [
    "From the above plot, it becomes clear that even by eye we can exclude the $H_0$-parameter being either much higher or lower than compared to the given values. It is also at least plausible, that a low Dark Energy component seems incompatible, as well as a universe with no DM."
   ]
  },
  {
   "cell_type": "markdown",
   "metadata": {},
   "source": [
    "### Task 4: What is the dark energy fraction in our universe given the SN data?\n",
    "\n",
    "We want to find out what parameters we can constrain from the given data. For this, we suggest the following: \n",
    "- start with trying to constrain only the matter density $\\Omega_m$, by imposing no curvature in your cosmological model and w=-1. Which model is that? Use it directly from astropy and set the Hubble parameter to 65.2 km/s/Mpc (that's the inferred parameter from Riess et. al)!\n",
    "- try to write the corresponding function to be fit and use astropy's built-in function to evaluate the parameter of interest\n",
    "- fit the function, using e.g. a starting value of $\\Omega_m \\approx 0.3$. You can restrict this to positive values, since (by the pure existence of you & me) there is *some* matter.\n",
    "- Redo the above steps trying to constrain at least one more cosmological parameter, e.g. by not imposing $H_0 = 65.2$. \n",
    "- If you can, try to constrain all model parameters ($H_{0}, \\Omega_m, \\Omega_\\lambda $) in a (curved) CDM model.\n",
    "\n",
    "\n",
    "Feel free to play around with some cosmologies!"
   ]
  },
  {
   "cell_type": "code",
   "execution_count": 14,
   "metadata": {},
   "outputs": [],
   "source": [
    "def distmod_fit_function_fldaCDM(...):\n",
    "    cosmology = ... # define your cosmology\n",
    "    return # when return your desired quantity, be sure to add .value at the end, since astropy will return it with the associated quantities, which does not work in e.g. the iminuit fitting routine"
   ]
  },
  {
   "cell_type": "code",
   "execution_count": 16,
   "metadata": {},
   "outputs": [],
   "source": [
    "least_squares_fldaCDM = ... # define the least squares fitting routine\n",
    "\n",
    "m_fldaCDM = Minuit(...)  # create the minuit object for fitting"
   ]
  },
  {
   "cell_type": "code",
   "execution_count": null,
   "metadata": {},
   "outputs": [],
   "source": [
    "m_fldaCDM.limits = [(0, None)] # impose limit that the matter density is not negative (could leave this out too)\n",
    "m_fldaCDM.migrad()  # finds minimum of least_squares function\n",
    "m_fldaCDM.hesse()   # accurately computes uncertainties"
   ]
  },
  {
   "cell_type": "markdown",
   "metadata": {},
   "source": [
    "Now, try to constrain more and more parameters or try different cosmological models altogether (e.g. don't impose it to be flat)."
   ]
  }
 ],
 "metadata": {
  "kernelspec": {
   "display_name": "Python 3",
   "language": "python",
   "name": "python3"
  },
  "language_info": {
   "codemirror_mode": {
    "name": "ipython",
    "version": 3
   },
   "file_extension": ".py",
   "mimetype": "text/x-python",
   "name": "python",
   "nbconvert_exporter": "python",
   "pygments_lexer": "ipython3",
   "version": "3.11.5"
  }
 },
 "nbformat": 4,
 "nbformat_minor": 2
}
