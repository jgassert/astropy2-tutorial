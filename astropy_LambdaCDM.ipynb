{
  "nbformat": 4,
  "nbformat_minor": 0,
  "metadata": {
    "colab": {
      "provenance": []
    },
    "kernelspec": {
      "name": "python3",
      "display_name": "Python 3"
    },
    "language_info": {
      "name": "python"
    }
  },
  "cells": [
    {
      "cell_type": "code",
      "execution_count": 1,
      "metadata": {
        "colab": {
          "base_uri": "https://localhost:8080/"
        },
        "id": "A5M9oFM4WI9n",
        "outputId": "9eded2b7-5ee6-47a0-8b72-57937073db02"
      },
      "outputs": [
        {
          "output_type": "stream",
          "name": "stdout",
          "text": [
            "Requirement already satisfied: astropy in /usr/local/lib/python3.10/dist-packages (6.1.7)\n",
            "Requirement already satisfied: numpy>=1.23 in /usr/local/lib/python3.10/dist-packages (from astropy) (1.26.4)\n",
            "Requirement already satisfied: pyerfa>=2.0.1.1 in /usr/local/lib/python3.10/dist-packages (from astropy) (2.0.1.5)\n",
            "Requirement already satisfied: astropy-iers-data>=0.2024.10.28.0.34.7 in /usr/local/lib/python3.10/dist-packages (from astropy) (0.2024.12.2.0.35.34)\n",
            "Requirement already satisfied: PyYAML>=3.13 in /usr/local/lib/python3.10/dist-packages (from astropy) (6.0.2)\n",
            "Requirement already satisfied: packaging>=19.0 in /usr/local/lib/python3.10/dist-packages (from astropy) (24.2)\n"
          ]
        }
      ],
      "source": [
        "!pip install astropy"
      ]
    },
    {
      "cell_type": "code",
      "source": [
        "import matplotlib.pyplot as plt\n",
        "import astropy.units as u\n",
        "import numpy as np\n",
        "from astropy.cosmology import FlatLambdaCDM, LambdaCDM, z_at_value"
      ],
      "metadata": {
        "id": "zWWkySQwWPjo"
      },
      "execution_count": 2,
      "outputs": []
    },
    {
      "cell_type": "markdown",
      "source": [
        "We can define our cosmology model using one of the several included classes. For a Lambda CDM model, we need to provide the Hubble constant and the current matter and dark energy density parameters. By default, the CMB temperature is set to zero, so let's choose to set it to 2.7K in accordance with observational data."
      ],
      "metadata": {
        "id": "GdR69qiQ_WJj"
      }
    },
    {
      "cell_type": "code",
      "source": [
        "cosmo1 = LambdaCDM(H0=68*u.km/u.s/u.Mpc, Om0=0.3, Ode0=0.7, Tcmb0=2.7)"
      ],
      "metadata": {
        "id": "CLycbpZQWa6I"
      },
      "execution_count": 3,
      "outputs": []
    },
    {
      "cell_type": "markdown",
      "source": [
        "Notice how we need to define the units of the Hubble constant. To do this, we use the astropy units class, which makes it super easy to keep track of units and conversions. The CMB temperature uses default Kelvin units.\n",
        "\n",
        "Using our defined model, we can extract information about the universe in one line, given a redshift. There are also several attributes encoding this information at $z=0$ (the full list of methods and attributes for each cosmology class can be found in the API)."
      ],
      "metadata": {
        "id": "oL3gPv1O9c5S"
      }
    },
    {
      "cell_type": "code",
      "source": [
        "# e.g. to get the current age of the universe:\n",
        "age = cosmo1.age(0) # at z=0\n",
        "print(age)"
      ],
      "metadata": {
        "colab": {
          "base_uri": "https://localhost:8080/"
        },
        "id": "2x9clHWB8QbG",
        "outputId": "d5c88f0b-55a9-4823-cffb-77b2d61dd883"
      },
      "execution_count": 4,
      "outputs": [
        {
          "output_type": "stream",
          "name": "stdout",
          "text": [
            "13.857903313780364 Gyr\n"
          ]
        }
      ]
    },
    {
      "cell_type": "markdown",
      "source": [
        "As such, we can see that the default units of age are in Gyr."
      ],
      "metadata": {
        "id": "ERgShMlRCHQK"
      }
    },
    {
      "cell_type": "code",
      "source": [
        "print(age.unit)"
      ],
      "metadata": {
        "colab": {
          "base_uri": "https://localhost:8080/"
        },
        "id": "zopwB6uuCUuH",
        "outputId": "0eaab1a0-036d-4caa-c71d-91270fa471d9"
      },
      "execution_count": 5,
      "outputs": [
        {
          "output_type": "stream",
          "name": "stdout",
          "text": [
            "Gyr\n"
          ]
        }
      ]
    },
    {
      "cell_type": "markdown",
      "source": [
        "# The z_at_value Function"
      ],
      "metadata": {
        "id": "JKUKryBG2UP6"
      }
    },
    {
      "cell_type": "markdown",
      "source": [
        "Most methods take redshift as their argument, but it is possible to 'work backwards' to get the redshift (or another parameter) from a parameter. Say, we want to know what the age of the universe at recombination, given we know the CMB temperature but not the redshift (e.g. from the Saha equation). We can use the z_at_value function to find the redshift z at $T_{CMB}(z)=3000K$, and then find the age using that redshift."
      ],
      "metadata": {
        "id": "nkJBvG_NX5JA"
      }
    },
    {
      "cell_type": "code",
      "source": [
        "z_at_rec = z_at_value(cosmo1.Tcmb, 3000*u.K)  # notice you must specify the units!"
      ],
      "metadata": {
        "colab": {
          "base_uri": "https://localhost:8080/",
          "height": 359
        },
        "id": "AoWb1fIRXzEB",
        "outputId": "51475404-1a5c-4f82-cdb7-bfed93027d68"
      },
      "execution_count": 6,
      "outputs": [
        {
          "output_type": "stream",
          "name": "stderr",
          "text": [
            "WARNING: fval is not bracketed by func(zmin)=2.700000027 K and func(zmax)=2702.7000000000003 K. This means either there is no solution, or that there is more than one solution between zmin and zmax satisfying fval = func(z). [astropy.cosmology.funcs.optimize]\n",
            "WARNING:astropy:fval is not bracketed by func(zmin)=2.700000027 K and func(zmax)=2702.7000000000003 K. This means either there is no solution, or that there is more than one solution between zmin and zmax satisfying fval = func(z).\n"
          ]
        },
        {
          "output_type": "error",
          "ename": "CosmologyError",
          "evalue": "Best guess z=999.9999897541522 is very close to the upper z limit 1000.0.\nTry re-running with a different zmax.",
          "traceback": [
            "\u001b[0;31m---------------------------------------------------------------------------\u001b[0m",
            "\u001b[0;31mCosmologyError\u001b[0m                            Traceback (most recent call last)",
            "\u001b[0;32m<ipython-input-6-402286b68a53>\u001b[0m in \u001b[0;36m<cell line: 1>\u001b[0;34m()\u001b[0m\n\u001b[0;32m----> 1\u001b[0;31m \u001b[0mz_at_rec\u001b[0m \u001b[0;34m=\u001b[0m \u001b[0mz_at_value\u001b[0m\u001b[0;34m(\u001b[0m\u001b[0mcosmo1\u001b[0m\u001b[0;34m.\u001b[0m\u001b[0mTcmb\u001b[0m\u001b[0;34m,\u001b[0m \u001b[0;36m3000\u001b[0m\u001b[0;34m*\u001b[0m\u001b[0mu\u001b[0m\u001b[0;34m.\u001b[0m\u001b[0mK\u001b[0m\u001b[0;34m)\u001b[0m  \u001b[0;31m# notice you must specify the units!\u001b[0m\u001b[0;34m\u001b[0m\u001b[0;34m\u001b[0m\u001b[0m\n\u001b[0m",
            "\u001b[0;32m/usr/local/lib/python3.10/dist-packages/astropy/cosmology/funcs/optimize.py\u001b[0m in \u001b[0;36mz_at_value\u001b[0;34m(func, fval, zmin, zmax, ztol, maxfun, method, bracket, verbose)\u001b[0m\n\u001b[1;32m    391\u001b[0m     ) as it:\n\u001b[1;32m    392\u001b[0m         \u001b[0;32mfor\u001b[0m \u001b[0mfv\u001b[0m\u001b[0;34m,\u001b[0m \u001b[0mzmn\u001b[0m\u001b[0;34m,\u001b[0m \u001b[0mzmx\u001b[0m\u001b[0;34m,\u001b[0m \u001b[0mzt\u001b[0m\u001b[0;34m,\u001b[0m \u001b[0mmfe\u001b[0m\u001b[0;34m,\u001b[0m \u001b[0mbkt\u001b[0m\u001b[0;34m,\u001b[0m \u001b[0mzs\u001b[0m \u001b[0;32min\u001b[0m \u001b[0mit\u001b[0m\u001b[0;34m:\u001b[0m  \u001b[0;31m# ← eltwise unpack & eval ↓\u001b[0m\u001b[0;34m\u001b[0m\u001b[0;34m\u001b[0m\u001b[0m\n\u001b[0;32m--> 393\u001b[0;31m             zs[...] = _z_at_scalar_value(\n\u001b[0m\u001b[1;32m    394\u001b[0m                 \u001b[0mfunc\u001b[0m\u001b[0;34m,\u001b[0m\u001b[0;34m\u001b[0m\u001b[0;34m\u001b[0m\u001b[0m\n\u001b[1;32m    395\u001b[0m                 \u001b[0mfv\u001b[0m \u001b[0;34m*\u001b[0m \u001b[0munit\u001b[0m\u001b[0;34m,\u001b[0m\u001b[0;34m\u001b[0m\u001b[0;34m\u001b[0m\u001b[0m\n",
            "\u001b[0;32m/usr/local/lib/python3.10/dist-packages/astropy/cosmology/funcs/optimize.py\u001b[0m in \u001b[0;36m_z_at_scalar_value\u001b[0;34m(func, fval, zmin, zmax, ztol, maxfun, method, bracket, verbose)\u001b[0m\n\u001b[1;32m    110\u001b[0m \u001b[0;34m\u001b[0m\u001b[0m\n\u001b[1;32m    111\u001b[0m     \u001b[0;32mif\u001b[0m \u001b[0mnp\u001b[0m\u001b[0;34m.\u001b[0m\u001b[0mallclose\u001b[0m\u001b[0;34m(\u001b[0m\u001b[0mres\u001b[0m\u001b[0;34m.\u001b[0m\u001b[0mx\u001b[0m\u001b[0;34m,\u001b[0m \u001b[0mzmax\u001b[0m\u001b[0;34m)\u001b[0m\u001b[0;34m:\u001b[0m\u001b[0;34m\u001b[0m\u001b[0;34m\u001b[0m\u001b[0m\n\u001b[0;32m--> 112\u001b[0;31m         raise CosmologyError(\n\u001b[0m\u001b[1;32m    113\u001b[0m             \u001b[0;34mf\"Best guess z={res.x} is very close to the upper z limit {zmax}.\"\u001b[0m\u001b[0;34m\u001b[0m\u001b[0;34m\u001b[0m\u001b[0m\n\u001b[1;32m    114\u001b[0m             \u001b[0;34m\"\\nTry re-running with a different zmax.\"\u001b[0m\u001b[0;34m\u001b[0m\u001b[0;34m\u001b[0m\u001b[0m\n",
            "\u001b[0;31mCosmologyError\u001b[0m: Best guess z=999.9999897541522 is very close to the upper z limit 1000.0.\nTry re-running with a different zmax."
          ]
        }
      ]
    },
    {
      "cell_type": "markdown",
      "source": [
        "Here we have run into a problem: z_at_value takes zmin and zmax as parameters, which define the upper and lower search limits for the redshift. By default these are set to 0 and 1000, respectively. This is handy in cases where there may be several solutions, or for where you may want to exclude diverging behaviour at $z=0$. In this case, an error was raised because the redshift at recombination is greater than 1000, so we can modify zmax to accommodate that."
      ],
      "metadata": {
        "id": "dZcTPuQJZSy9"
      }
    },
    {
      "cell_type": "code",
      "source": [
        "z_at_rec = z_at_value(cosmo1.Tcmb, 3000*u.K, zmax=1200)  # now with a higher zmax\n",
        "print(z_at_rec)\n",
        "\n",
        "age_at_rec = cosmo1.age(z_at_rec)\n",
        "\n",
        "# the to() method creates a new quantity in the given unit\n",
        "# the default units for age is in Gyr, so we want to convert that to years\n",
        "age_at_rec_yr = age_at_rec.to(u.yr)\n",
        "print(age_at_rec_yr)"
      ],
      "metadata": {
        "colab": {
          "base_uri": "https://localhost:8080/"
        },
        "id": "4GgpLlm9ciN5",
        "outputId": "a86affc5-ef67-47f4-8782-3f1f8d13322e"
      },
      "execution_count": 9,
      "outputs": [
        {
          "output_type": "stream",
          "name": "stdout",
          "text": [
            "1110.1111063003887 redshift\n",
            "366014.87835514627 yr\n"
          ]
        }
      ]
    },
    {
      "cell_type": "markdown",
      "source": [
        "# A Universe with Flat Curvature"
      ],
      "metadata": {
        "id": "G1YG-yi6K_0z"
      }
    },
    {
      "cell_type": "markdown",
      "source": [
        "Now, let's try imposing the constraint of a flat universe. This means that we will no longer need to specify the dark energy density parameter, since it is fixed by $\\Omega_{k,0}=0$. One key drawback of astropy is that not all density parameters can be set directly; $\\Omega_{k,0}$ and $\\Omega_{\\gamma,0}$ can both only be inferred by the model.\n",
        "\n",
        "Given our earlier model, there are a couple ways we can impose this new constraint. Looking at the curvature density parameter, we see that while it is non-zero, it is within a rounding error."
      ],
      "metadata": {
        "id": "TppVXld0Emgi"
      }
    },
    {
      "cell_type": "code",
      "source": [
        "print(cosmo1.Ok0)"
      ],
      "metadata": {
        "colab": {
          "base_uri": "https://localhost:8080/"
        },
        "id": "KjY0Ty_y3hY_",
        "outputId": "18dd8eb2-0cfe-482c-c153-a478b59d6105"
      },
      "execution_count": 10,
      "outputs": [
        {
          "output_type": "stream",
          "name": "stdout",
          "text": [
            "-8.706896022255479e-05\n"
          ]
        }
      ]
    },
    {
      "cell_type": "markdown",
      "source": [
        "So in order to have a flat model, we'll want to use a class that has 'Flat' in the name (there are several). Let's try making an Einstein de Sitter universe, which means the cosmological constant must be zero. We can use a FlatLambdaCDM model, we just have to be careful that the matter density parameter is set to 1."
      ],
      "metadata": {
        "id": "ViGZl72i5cPY"
      }
    },
    {
      "cell_type": "code",
      "source": [
        "eds_cosmo = FlatLambdaCDM(H0=68*u.km/u.s/u.Mpc, Om0=1.0)\n",
        "print(eds_cosmo.Ok0, eds_cosmo.Ode0)"
      ],
      "metadata": {
        "colab": {
          "base_uri": "https://localhost:8080/"
        },
        "id": "IIFSWPyD4olG",
        "outputId": "a446bd79-6881-420a-da57-59e388a94732"
      },
      "execution_count": 15,
      "outputs": [
        {
          "output_type": "stream",
          "name": "stdout",
          "text": [
            "0.0 0.0\n"
          ]
        }
      ]
    },
    {
      "cell_type": "markdown",
      "source": [
        "# Comparing Cosmological Models"
      ],
      "metadata": {
        "id": "43LybZCM2yNN"
      }
    },
    {
      "cell_type": "markdown",
      "source": [
        "Let's create a few different cosmologies and compare them."
      ],
      "metadata": {
        "id": "WHQnWa58L-kD"
      }
    },
    {
      "cell_type": "code",
      "source": [
        "ld_cosmo = LambdaCDM(H0=68*u.km/u.s/u.Mpc, Om0=0.05, Ode0=0.0, Tcmb0=2.7) # low-density: no cosmological constant, low matter density\n",
        "hl_cosmo = LambdaCDM(H0=68*u.km/u.s/u.Mpc, Om0=0.2, Ode0=0.8, Tcmb0=2.7)  # high-lambda: high dark energy density"
      ],
      "metadata": {
        "id": "Rbj5zVbjNMSn"
      },
      "execution_count": 16,
      "outputs": []
    },
    {
      "cell_type": "markdown",
      "source": [
        "There's a long list of different (often equivalent) quantities we can plot. But in this example, let's compare the critical density of the universe over a range of redshift values for each model."
      ],
      "metadata": {
        "id": "drwlSoJh6bCx"
      }
    },
    {
      "cell_type": "code",
      "source": [
        "zvals = np.arange(0, 1000, 1)  # must define our redshift values to plot over\n",
        "\n",
        "rho_1 = cosmo1.critical_density(zvals)\n",
        "rho_eds = eds_cosmo.critical_density(zvals)\n",
        "rho_ld = ld_cosmo.critical_density(zvals)\n",
        "rho_hl = hl_cosmo.critical_density(zvals)"
      ],
      "metadata": {
        "id": "j6qjl0NXI_Yf"
      },
      "execution_count": 18,
      "outputs": []
    },
    {
      "cell_type": "code",
      "source": [
        "fig = plt.figure(figsize=(6,4))\n",
        "ax = fig.add_subplot(111)\n",
        "ax.plot(zvals, rho_1, label='Ω_m = 0.3, Ω_Λ = 0.7')\n",
        "ax.plot(zvals, rho_eds, label='Einstein de Sitter')\n",
        "ax.plot(zvals, rho_ld, label='Ω_m = 0.05, Ω_Λ = 0.0')\n",
        "ax.plot(zvals, rho_hl, label='Ω_m = 0.2, Ω_Λ = 0.8')\n",
        "ax.legend()\n",
        "ax.set_xlabel('Redshift')\n",
        "ax.set_ylabel('Critical density [g/cm^3]')\n",
        "plt.show()"
      ],
      "metadata": {
        "colab": {
          "base_uri": "https://localhost:8080/",
          "height": 403
        },
        "id": "DJ1I6HJAOKrh",
        "outputId": "797b4ccb-7c10-4951-d04e-366a30d83275"
      },
      "execution_count": 19,
      "outputs": [
        {
          "output_type": "display_data",
          "data": {
            "text/plain": [
              "<Figure size 600x400 with 1 Axes>"
            ],
            "image/png": "[encoded data removed]"
          },
          "metadata": {}
        }
      ]
    },
    {
      "cell_type": "markdown",
      "source": [
        "Discussion about the plot:"
      ],
      "metadata": {
        "id": "8LXqrfdp9rru"
      }
    }
  ]
}